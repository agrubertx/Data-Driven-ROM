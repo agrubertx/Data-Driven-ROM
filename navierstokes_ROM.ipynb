{
 "cells": [
  {
   "cell_type": "markdown",
   "metadata": {
    "slideshow": {
     "slide_type": "slide"
    }
   },
   "source": [
    "# 3.2 Incompressible Navier-Stokes equations\n",
    "We are solving the unsteady Navier Stokes equations:\n",
    "\n",
    "Find $(u,p):[0,T] \\to (H_{0,D}^1)^d \\times L^2$, s.t.\n",
    "\\begin{align}\n",
    "\\int_{\\Omega} \\partial_t u \\cdot v + \\int_{\\Omega} \\nu \\nabla u : \\nabla v + u \\cdot \\nabla u\\cdot v - \\int_{\\Omega} \\operatorname{div}(v) p &= \\int f v  && \\forall v \\in (H_{0,D}^1)^d, \\\\ \n",
    "- \\int_{\\Omega} \\operatorname{div}(u) q &= 0 && \\forall q \\in L^2, \\\\\n",
    "\\quad u(t=0) & = u_0\n",
    "\\end{align}"
   ]
  },
  {
   "cell_type": "code",
   "execution_count": 1,
   "metadata": {},
   "outputs": [],
   "source": [
    "# You will need Netgen/Ngsolve to run this\n",
    "from ngsolve import *\n",
    "from ngsolve.webgui import Draw\n",
    "from netgen.geom2d import SplineGeometry\n",
    "\n",
    "# Standard numerical Python imports\n",
    "import numpy as np\n",
    "import scipy.sparse as sp\n",
    "from scipy.linalg import cholesky\n",
    "from scipy.sparse.linalg import svds, spsolve\n",
    "\n",
    "# Optional, for visualization of the eigenvalues\n",
    "import matplotlib.pyplot as plt"
   ]
  },
  {
   "cell_type": "markdown",
   "metadata": {},
   "source": [
    "## Function for generating data\n",
    "\n",
    "Generates FOM solutions.  Based on the official Ngsolve NSE tutorial."
   ]
  },
  {
   "cell_type": "code",
   "execution_count": 2,
   "metadata": {},
   "outputs": [],
   "source": [
    "def generate_NSE_data(h, deg, nus, tEnd, filename):\n",
    "\n",
    "    # Def mesh geometry\n",
    "    geo = SplineGeometry()\n",
    "    geo.AddRectangle( (0, 0), (2, 0.41), bcs = (\"wall\", \"outlet\", \"wall\", \"inlet\"))\n",
    "    geo.AddCircle ( (0.2, 0.2), r=0.05, leftdomain=0, rightdomain=1, bc=\"cyl\")\n",
    "    mesh = Mesh( geo.GenerateMesh(maxh=h))\n",
    "    mesh.Curve(3);\n",
    "\n",
    "    # Def FE space and solution grid function\n",
    "    V = VectorH1(mesh,order=deg, dirichlet=\"wall|cyl|inlet\")\n",
    "    Q = H1(mesh,order=deg-1)\n",
    "    X = FESpace([V,Q])\n",
    "    gfu = GridFunction(X)\n",
    "    velocity = gfu.components[0]\n",
    "    \n",
    "    print(f'velocity DOFs is {V.ndofglobal}')\n",
    "\n",
    "    # parabolic inflow at bc=1:\n",
    "    uin = CoefficientFunction((1.5*4*y*(0.41-y)/(0.41*0.41),0))\n",
    "    gfu.components[0].Set(uin, definedon=mesh.Boundaries(\"inlet\"))\n",
    "\n",
    "    (u,p), (v,q) = X.TnT()\n",
    "    \n",
    "    savez_dict = dict() # for storing snapshots \n",
    "\n",
    "    for i, nu in enumerate(nus):\n",
    "        \n",
    "        a = BilinearForm(X)\n",
    "        stokes = (nu*InnerProduct(Grad(u)+Grad(u).trans, Grad(v))\n",
    "                  -div(u)*q-div(v)*p)*dx\n",
    "        a += stokes\n",
    "        a.Assemble()\n",
    "\n",
    "        f = LinearForm(X)   \n",
    "        f.Assemble()\n",
    "\n",
    "        inv_stokes = a.mat.Inverse(X.FreeDofs())\n",
    "\n",
    "        res = f.vec.CreateVector()\n",
    "        res.data = f.vec - a.mat*gfu.vec\n",
    "        gfu.vec.data += inv_stokes * res\n",
    "\n",
    "        # IMEX time discretization \n",
    "\n",
    "        dt = 0.00005\n",
    "\n",
    "        # matrix for implicit part of IMEX(1) scheme:\n",
    "        mstar = BilinearForm(X)\n",
    "        mstar += InnerProduct(u,v)*dx + dt*stokes\n",
    "        mstar.Assemble()\n",
    "        inv = mstar.mat.Inverse(X.FreeDofs())\n",
    "\n",
    "        conv = LinearForm(X)\n",
    "        conv += InnerProduct(Grad(velocity)*velocity,v)*dx\n",
    "\n",
    "        t, tend = 0, 0\n",
    "\n",
    "        # implicit Euler/explicit Euler splitting method:\n",
    "        tend += tEnd\n",
    "\n",
    "        uh = gfu.components[0]\n",
    "\n",
    "        ns = int(tend/dt/50) # save snapshot every 50 time steps\n",
    "        snaps = np.zeros([ns, uh.vec.size])\n",
    "\n",
    "        count, count_loc = 0, 0\n",
    "\n",
    "        while t < tend-0.5*dt:\n",
    "            print (f'nu is {nu} and t={t}', end='\\r')\n",
    "\n",
    "            conv.Assemble()\n",
    "            res.data = a.mat * gfu.vec + conv.vec\n",
    "            gfu.vec.data -= dt * inv * res   \n",
    "\n",
    "            if count_loc == 49:\n",
    "                snaps[count,:] = uh.vec.data\n",
    "                count += 1\n",
    "                count_loc = 0\n",
    "            else: \n",
    "                count_loc += 1\n",
    "\n",
    "            t = t + dt\n",
    "\n",
    "        savez_dict['NSE_nu'+str(i)] = snaps.T\n",
    "    np.savez(filename+'.npz', **savez_dict)\n",
    "    \n",
    "    return 'data generated'"
   ]
  },
  {
   "cell_type": "markdown",
   "metadata": {},
   "source": [
    "# Class which manages the ROM\n",
    "\n",
    "Basically all the nodal value manipulations follow from the fact that Netgen\n",
    "stores its vector-valued function DOFs on top of each other in equal-sized pieces."
   ]
  },
  {
   "cell_type": "code",
   "execution_count": 3,
   "metadata": {},
   "outputs": [],
   "source": [
    "class MyROM:\n",
    "    \n",
    "    def __init__(self, h, deg):\n",
    "        '''\n",
    "        Defines mesh and FE space.  Computes mass matrix. Note that\n",
    "        (h, deg) should match the data loaded in \"file\".\n",
    "        ''' \n",
    "        # Def mesh geometry and FE space\n",
    "        geo = SplineGeometry()\n",
    "        geo.AddRectangle((0, 0), (2, 0.41), bcs = (\"wall\", \"outlet\", \"wall\", \"inlet\"))\n",
    "        geo.AddCircle ((0.2, 0.2), r=0.05, leftdomain=0, rightdomain=1, bc=\"cyl\")\n",
    "        self.mesh = Mesh(geo.GenerateMesh(maxh=h))\n",
    "        self.mesh.Curve(3)\n",
    "        self.V = VectorH1(self.mesh, order=deg, dirichlet=\"wall|cyl|inlet\")\n",
    "        \n",
    "        # Compute mass matrix\n",
    "        u, v = self.V.TnT()\n",
    "        mass = BilinearForm(self.V, symmetric=True)\n",
    "        mass += SymbolicBFI(InnerProduct(u, v))\n",
    "        mass.Assemble()\n",
    "        rows, cols, vals = mass.mat.COO()\n",
    "        self.M = sp.csr_matrix((vals, (rows, cols)))\n",
    "        \n",
    "        \n",
    "    def load_data_from_file(self, file, nSnaps):\n",
    "        '''\n",
    "        Loads snapshots from file and computes center component-wise.\n",
    "        \n",
    "        Outputs:  u -- [2n, nSnaps] array of stacked velocity components.\n",
    "                  ubar -- [2n, 1] array of corresponding means.\n",
    "        '''\n",
    "        self.u = np.load(file, allow_pickle=True)[:,-nSnaps:]\n",
    "        n = int(self.u.shape[0]/2)\n",
    "        self.ubar = np.concatenate((np.mean(self.u[:n],axis=1),\n",
    "                                    np.mean(self.u[n:],axis=1)),\n",
    "                                   axis=0).reshape(-1,1)\n",
    "        self.nSnaps = nSnaps\n",
    "    \n",
    "    \n",
    "    def load_data_from_array(self, array, nSnaps):\n",
    "        '''\n",
    "        Loads snapshots from array and computes center component-wise.\n",
    "        \n",
    "        '''\n",
    "        self.u = array[:,-nSnaps:]\n",
    "        n = int(self.u.shape[0]/2)\n",
    "        self.ubar = np.concatenate((np.mean(self.u[:n],axis=1),\n",
    "                                    np.mean(self.u[n:],axis=1)),\n",
    "                                   axis=0).reshape(-1,1)\n",
    "        self.nSnaps = nSnaps\n",
    "        \n",
    "\n",
    "    def generate_POD_basis(self, numBasis=100):\n",
    "        '''\n",
    "        Generates POD basis from snapshot data.\n",
    "\n",
    "        Inputs:   numBasis -- number of singular vectors to compute.\n",
    "\n",
    "        Outputs:  POD -- [2n, numBasis] array of singular vectors.\n",
    "                  ews -- length numBasis array of largest singular values \n",
    "                       in descending order.\n",
    "        '''\n",
    "        # Compute SVD\n",
    "        R = cholesky(self.M.todense())  # wish it were sparse, but oh well\n",
    "        RuTilde = R @ (self.u - self.ubar)\n",
    "        U, S, _ = svds(RuTilde, k=numBasis, which='LM')\n",
    "\n",
    "        # Because we want descending order...\n",
    "        U = np.flip(U, axis=1) \n",
    "        self.ews = np.flip(S)\n",
    "\n",
    "        # Compute POD basis\n",
    "        self.POD = spsolve(R, U[:,:numBasis])\n",
    "        print(f'POD basis of size {numBasis} has been generated')\n",
    "        \n",
    "    \n",
    "    def plot_evals(self, n):\n",
    "        '''\n",
    "        Plots magnitude of first n eigenvalues.\n",
    "        '''\n",
    "        x = np.array([i+1 for i,e in enumerate(self.ews)])[:n]\n",
    "        \n",
    "        fig = plt.figure()\n",
    "        ax = fig.add_subplot(1, 1, 1)\n",
    "        ax.scatter(x, self.ews[:n])\n",
    "        ax.set_yscale('log')\n",
    "        plt.show()\n",
    "    \n",
    "    \n",
    "    def project(self, u, n):\n",
    "        '''\n",
    "        Projects full-order object to reduced space of size n.\n",
    "        '''\n",
    "        return self.POD[:,:n].T @ self.M @ (u - self.ubar)\n",
    "        \n",
    "        \n",
    "    def reconstruct(self, a):\n",
    "        '''\n",
    "        Reconstructs full-order object from reduced-order one.\n",
    "        '''\n",
    "        return self.ubar + self.POD[:,:a.shape[0]] @ a\n",
    "        \n",
    "        \n",
    "    def compute_L2_error(self, approx):\n",
    "        '''\n",
    "        Computes relative L2 error between snapshots and approximation.\n",
    "        '''\n",
    "        diff = self.u - approx\n",
    "        num2 = np.trace(diff.T @ self.M @ diff)\n",
    "        den2 = np.trace(self.u.T @ self.M @ self.u)\n",
    "        return np.sqrt(num2/den2)\n",
    "    \n",
    "    \n",
    "    def test_POD_projection(self):\n",
    "        '''\n",
    "        Tests the convergence of the computed POD basis.\n",
    "        '''\n",
    "        for dim in [2**i for i in range(6)]:\n",
    "            # Compute % of squared EWs captured in first q_dim dimensions\n",
    "            percent_energy = (np.sum(self.ews[:dim]**2) \n",
    "                              / np.sum(self.ews**2) * 100)\n",
    "\n",
    "            # Reconstruction after projection\n",
    "            aa = self.project(self.u, dim)\n",
    "            projRecon = self.reconstruct(aa)\n",
    "\n",
    "            # Relative L2 error in mass norm (no ode solve)\n",
    "            error = self.compute_L2_error(projRecon)\n",
    "            print(f'dim is {dim}, % energy is {percent_energy:.3f}, '\n",
    "                  + f'and compression error is {error:.7f}')\n",
    "    \n",
    "        \n",
    "    def assemble(self, dim, nu):\n",
    "        '''\n",
    "        Assembles the right-hand side (RHS) of the NSE-ROM.\n",
    "        Must be called after POD basis has been generated.\n",
    "\n",
    "        Inputs:   dim -- reduced basis dimension.\n",
    "                  nu -- viscosity in NSE\n",
    "\n",
    "        Outputs:  [self.r{i} for i in range(3)] representing the\n",
    "                  rank i terms of the RHS computed in terms of the\n",
    "                  POD basis. Respective sizes are [dim], [dim,dim],\n",
    "                  and [dim,dim,dim].\n",
    "        '''\n",
    "        self.dim = dim\n",
    "        u, v = self.V.TnT()\n",
    "\n",
    "        # Def ubar (grid function)\n",
    "        ubarG = GridFunction(self.V)\n",
    "        ubarG.vec.FV().NumPy()[:] = self.ubar.flatten()\n",
    "\n",
    "        # Def convection of center (coefficient function)\n",
    "        uguC = ubarG.vec.CreateVector()\n",
    "        uguC = Grad(ubarG)*ubarG  # Grad is Jacobian J_ij = \\nabla_j u_i\n",
    "\n",
    "        # Def rank 1 terms in RHS\n",
    "        rank1 = LinearForm(self.V)\n",
    "        rank1 += SymbolicLFI(InnerProduct(uguC, v)\n",
    "                             + nu*InnerProduct(Grad(ubarG)+Grad(ubarG).trans, Grad(v)))\n",
    "        rank1.Assemble()\n",
    "\n",
    "        # Def rank 2 terms in RHS\n",
    "        rank2 = BilinearForm(self.V)\n",
    "        rank2 += SymbolicBFI(InnerProduct(Grad(ubarG)*u+Grad(u)*ubarG, v) \n",
    "                             + nu*InnerProduct(Grad(u)+Grad(u).trans, Grad(v)))\n",
    "        rank2.Assemble()\n",
    "        rows, cols, vals = rank2.mat.COO()\n",
    "        rank2Mat = sp.csr_matrix((vals, (rows, cols)))\n",
    "\n",
    "        # Def rank 3 term in RHS using list of rank 2s (no tensors in Netgen)\n",
    "        rank3 = [0 for b in range(dim)]\n",
    "        rank3Mat = [0 for b in range(dim)]\n",
    "        for b in range(dim):\n",
    "            phibG = GridFunction(self.V)\n",
    "            phibG.vec.FV().NumPy()[:] = self.POD[:,b]\n",
    "            rank3[b] = BilinearForm(self.V)\n",
    "            rank3[b] += SymbolicBFI(InnerProduct(Grad(u)*phibG, v))\n",
    "            rank3[b].Assemble()\n",
    "            rows, cols, vals = rank3[b].mat.COO()\n",
    "            rank3Mat[b] = sp.csr_matrix((vals, (rows, cols)))\n",
    "\n",
    "        # Compute reduced quantities\n",
    "        self.r1 = self.POD[:,:dim].T @ rank1.vec.FV().NumPy()[:]  #r_c\n",
    "        self.r2 = self.POD[:,:dim].T @ rank2Mat.T @ self.POD[:,:dim]  #S_ac\n",
    "        self.r3 = np.array([self.POD[:,:dim].T @ rank3Mat[b].T @ self.POD[:,:dim]\n",
    "                            for b in range(dim)])  #T_bac\n",
    "        \n",
    "        \n",
    "    def integrate_fEuler(self, dt, Nt, nSub=100):\n",
    "        '''\n",
    "        Forward Euler time integration of the ROM system.\n",
    "        Includes optional substepping for finer time scales.\n",
    "\n",
    "        Inputs:   dt -- length of time step\n",
    "                  Nt -- number of time steps.\n",
    "                  nSub -- parameter controlling the substepping.\n",
    "\n",
    "        Outputs:  a -- [dim, Nt] array containing the reduced solution.\n",
    "        '''\n",
    "        Ns = self.u.shape[1]\n",
    "\n",
    "        # Initial data\n",
    "        a = np.zeros([self.dim, Nt])\n",
    "        a[:,0] = (self.u[:,Ns-Nt]-self.ubar.flatten()) @ self.M @ self.POD[:,:self.dim]\n",
    "\n",
    "        # Simple forward Euler with substepping\n",
    "        for i in range(1, Nt):\n",
    "            aOld = a[:,i-1]\n",
    "            for j in range(nSub):\n",
    "                rhsn = np.dot(aOld, self.r2) + np.dot(aOld, np.dot(aOld, self.r3))\n",
    "                aOld = aOld - dt / nSub * (rhsn + self.r1)  # note the minus sign\n",
    "            a[:,i] = aOld\n",
    "            \n",
    "        self.a = a\n",
    "        \n",
    "        \n",
    "    def test_ROM_approximation(self, nu, nSub):\n",
    "        '''\n",
    "        Tests the convergence of the computed ROM approximation.\n",
    "        '''\n",
    "        for dim in [2**i for i in range(6)]:\n",
    "            # Compute % of squared EWs captured in first q_dim dimensions\n",
    "            percent_energy = (np.sum(self.ews[:dim]**2) \n",
    "                              / np.sum(self.ews**2) * 100)\n",
    "            \n",
    "            self.assemble(dim, nu)\n",
    "            self.integrate_fEuler(0.0025, self.nSnaps, nSub)\n",
    "            uTilde = self.reconstruct(self.a)\n",
    "            error = self.compute_L2_error(uTilde)\n",
    "            print(f'dim is {dim}, % energy is {percent_energy:.3f}, '\n",
    "                  + f'and prediction error is {error:.7f}')"
   ]
  },
  {
   "cell_type": "markdown",
   "metadata": {},
   "source": [
    "# Testing\n",
    "\n",
    "### Beware, this section will download about 120MB of data.\n",
    "\n",
    "Reynolds number 10, P2/P1 elements.  Snapshots in [0,1] starting from rest."
   ]
  },
  {
   "cell_type": "code",
   "execution_count": 4,
   "metadata": {
    "scrolled": false
   },
   "outputs": [
    {
     "name": "stdout",
     "output_type": "stream",
     "text": [
      "velocity DOFs is 5184\n",
      "nu is 0.01 and t=0.99994999999989813565\r"
     ]
    },
    {
     "name": "stderr",
     "output_type": "stream",
     "text": [
      "/Users/agrubertx/miniconda3/envs/netgen/lib/python3.8/site-packages/scipy/sparse/linalg/dsolve/linsolve.py:144: SparseEfficiencyWarning: spsolve requires A be CSC or CSR matrix format\n",
      "  warn('spsolve requires A be CSC or CSR matrix format',\n"
     ]
    },
    {
     "name": "stdout",
     "output_type": "stream",
     "text": [
      "POD basis of size 100 has been generated\n"
     ]
    },
    {
     "data": {
      "image/png": "[encoded data removed]",
      "text/plain": [
       "<Figure size 432x288 with 1 Axes>"
      ]
     },
     "metadata": {
      "needs_background": "light"
     },
     "output_type": "display_data"
    },
    {
     "name": "stdout",
     "output_type": "stream",
     "text": [
      "dim is 1, % energy is 80.959, and compression error is 0.0144316\n",
      "dim is 2, % energy is 94.275, and compression error is 0.0079133\n",
      "dim is 4, % energy is 99.178, and compression error is 0.0029981\n",
      "dim is 8, % energy is 99.975, and compression error is 0.0005250\n",
      "dim is 16, % energy is 100.000, and compression error is 0.0000153\n",
      "dim is 32, % energy is 100.000, and compression error is 0.0000004\n",
      "dim is 1, % energy is 80.959, and prediction error is 0.0146251\n",
      "dim is 2, % energy is 94.275, and prediction error is 0.0080973\n",
      "dim is 4, % energy is 99.178, and prediction error is 0.0030911\n",
      "dim is 8, % energy is 99.975, and prediction error is 0.0005437\n",
      "dim is 16, % energy is 100.000, and prediction error is 0.0000198\n",
      "dim is 32, % energy is 100.000, and prediction error is 0.0005073\n"
     ]
    }
   ],
   "source": [
    "# Generate laminar flow data\n",
    "generate_NSE_data(0.04, 2, [0.01], 1, 'laminar')\n",
    "repo = np.load('laminar.npz')\n",
    "snaps = repo['NSE_nu0']\n",
    "\n",
    "rom = MyROM(0.04, 2)\n",
    "\n",
    "rom.load_data_from_array(snaps, 400)\n",
    "rom.generate_POD_basis()\n",
    "rom.plot_evals(25)\n",
    "rom.test_POD_projection()\n",
    "rom.test_ROM_approximation(0.01, 400)"
   ]
  },
  {
   "cell_type": "markdown",
   "metadata": {},
   "source": [
    "Reynolds number 214, P3/P2 elements.  Snapshots in [0,1] starting from rest."
   ]
  },
  {
   "cell_type": "code",
   "execution_count": 5,
   "metadata": {},
   "outputs": [
    {
     "name": "stdout",
     "output_type": "stream",
     "text": [
      "velocity DOFs is 11466\n",
      "POD basis of size 100 has been generated5\n"
     ]
    },
    {
     "data": {
      "image/png": "[encoded data removed]",
      "text/plain": [
       "<Figure size 432x288 with 1 Axes>"
      ]
     },
     "metadata": {
      "needs_background": "light"
     },
     "output_type": "display_data"
    },
    {
     "name": "stdout",
     "output_type": "stream",
     "text": [
      "dim is 1, % energy is 38.317, and compression error is 0.1429087\n",
      "dim is 2, % energy is 69.475, and compression error is 0.1005311\n",
      "dim is 4, % energy is 85.585, and compression error is 0.0690847\n",
      "dim is 8, % energy is 93.631, and compression error is 0.0459207\n",
      "dim is 16, % energy is 99.138, and compression error is 0.0168972\n",
      "dim is 32, % energy is 99.970, and compression error is 0.0031626\n",
      "dim is 1, % energy is 38.317, and prediction error is 0.3009288\n",
      "dim is 2, % energy is 69.475, and prediction error is 0.1874031\n",
      "dim is 4, % energy is 85.585, and prediction error is 0.2366270\n",
      "dim is 8, % energy is 93.631, and prediction error is 0.2242985\n",
      "dim is 16, % energy is 99.138, and prediction error is 0.0537235\n",
      "dim is 32, % energy is 99.970, and prediction error is 0.0053162\n"
     ]
    }
   ],
   "source": [
    "generate_NSE_data(0.04, 3, [5e-4, 6e-4, 7e-4], 1, 'periodic')\n",
    "repo = np.load('periodic.npz')\n",
    "snaps = repo['NSE_nu0']\n",
    "\n",
    "rom = MyROM(0.04, 3)\n",
    "rom.load_data_from_array(snaps, 400)\n",
    "rom.generate_POD_basis()\n",
    "rom.plot_evals(40)\n",
    "rom.test_POD_projection()\n",
    "rom.test_ROM_approximation(5e-4, 400)"
   ]
  },
  {
   "cell_type": "markdown",
   "metadata": {},
   "source": [
    "Little animations which show the evolution of the first component of velocity. \n",
    "Top is FOM solution and bottom is ROM solution."
   ]
  },
  {
   "cell_type": "code",
   "execution_count": 6,
   "metadata": {},
   "outputs": [
    {
     "data": {
      "application/vnd.jupyter.widget-view+json": {
       "model_id": "3f76aebcc4654d86a68dc55ba7206461",
       "version_major": 2,
       "version_minor": 0
      },
      "text/plain": [
       "WebGuiWidget(value={'ngsolve_version': '6.2.2105', 'mesh_dim': 2, 'order2d': 2, 'order3d': 2, 'draw_vol': Fals…"
      ]
     },
     "metadata": {},
     "output_type": "display_data"
    },
    {
     "data": {
      "application/vnd.jupyter.widget-view+json": {
       "model_id": "db7efba9c1fb4d59ac78fcec49aa2b95",
       "version_major": 2,
       "version_minor": 0
      },
      "text/plain": [
       "WebGuiWidget(value={'ngsolve_version': '6.2.2105', 'mesh_dim': 2, 'order2d': 2, 'order3d': 2, 'draw_vol': Fals…"
      ]
     },
     "metadata": {},
     "output_type": "display_data"
    },
    {
     "data": {
      "text/plain": [
       "BaseWebGuiScene"
      ]
     },
     "execution_count": 6,
     "metadata": {},
     "output_type": "execute_result"
    }
   ],
   "source": [
    "## Visualization for n=16\n",
    "rom.assemble(16, 5e-4)\n",
    "rom.integrate_fEuler(0.0025, 400, nSub=100)\n",
    "uTilde = rom.reconstruct(rom.a)\n",
    "\n",
    "gfut = GridFunction(rom.V, multidim=0)\n",
    "for i,col in enumerate(snaps.T[::10]):\n",
    "    gfut.AddMultiDimComponent(col[:11466])\n",
    "Draw (gfut, rom.mesh, interpolate_multidim=True, animate=True)\n",
    "\n",
    "gfut = GridFunction(rom.V, multidim=0)\n",
    "for i,col in enumerate(uTilde.T[::10]):\n",
    "    gfut.AddMultiDimComponent(col[:11466])\n",
    "Draw (gfut, rom.mesh, interpolate_multidim=True, animate=True)"
   ]
  },
  {
   "cell_type": "markdown",
   "metadata": {},
   "source": [
    "Reynolds number 214, P3/P2 elements.  Snapshots in [0.5,1]."
   ]
  },
  {
   "cell_type": "code",
   "execution_count": 7,
   "metadata": {
    "scrolled": false
   },
   "outputs": [
    {
     "name": "stdout",
     "output_type": "stream",
     "text": [
      "POD basis of size 100 has been generated\n"
     ]
    },
    {
     "data": {
      "image/png": "[encoded data removed]",
      "text/plain": [
       "<Figure size 432x288 with 1 Axes>"
      ]
     },
     "metadata": {
      "needs_background": "light"
     },
     "output_type": "display_data"
    },
    {
     "name": "stdout",
     "output_type": "stream",
     "text": [
      "dim is 1, % energy is 46.022, and compression error is 0.1637235\n",
      "dim is 2, % energy is 83.342, and compression error is 0.0909527\n",
      "dim is 4, % energy is 91.505, and compression error is 0.0649525\n",
      "dim is 8, % energy is 98.324, and compression error is 0.0288516\n",
      "dim is 16, % energy is 99.880, and compression error is 0.0077262\n",
      "dim is 32, % energy is 99.999, and compression error is 0.0006881\n",
      "dim is 1, % energy is 46.022, and prediction error is 0.2299890\n",
      "dim is 2, % energy is 83.342, and prediction error is 0.0986016\n",
      "dim is 4, % energy is 91.505, and prediction error is 0.0768528\n",
      "dim is 8, % energy is 98.324, and prediction error is 0.0431960\n",
      "dim is 16, % energy is 99.880, and prediction error is 0.0097938\n",
      "dim is 32, % energy is 99.999, and prediction error is 0.0011751\n"
     ]
    }
   ],
   "source": [
    "rom = MyROM(0.04, 3)\n",
    "rom.load_data_from_array(snaps, 200)\n",
    "rom.generate_POD_basis()\n",
    "rom.plot_evals(40)\n",
    "rom.test_POD_projection()\n",
    "rom.test_ROM_approximation(5e-4, 200)"
   ]
  },
  {
   "cell_type": "markdown",
   "metadata": {},
   "source": [
    "## Experiment from paper\n",
    "\n",
    "Re 214, 155 for training, Re 180 for testing, P3/P2 elements.  "
   ]
  },
  {
   "cell_type": "code",
   "execution_count": 8,
   "metadata": {},
   "outputs": [
    {
     "name": "stdout",
     "output_type": "stream",
     "text": [
      "POD basis of size 100 has been generated\n"
     ]
    },
    {
     "data": {
      "image/png": "[encoded data removed]",
      "text/plain": [
       "<Figure size 432x288 with 1 Axes>"
      ]
     },
     "metadata": {
      "needs_background": "light"
     },
     "output_type": "display_data"
    },
    {
     "name": "stdout",
     "output_type": "stream",
     "text": [
      "dim is 1, % energy is 37.049, and compression error is 0.1360920\n",
      "dim is 2, % energy is 67.793, and compression error is 0.0966511\n",
      "dim is 4, % energy is 85.452, and compression error is 0.0639926\n",
      "dim is 8, % energy is 93.423, and compression error is 0.0418871\n",
      "dim is 16, % energy is 98.667, and compression error is 0.0164824\n",
      "dim is 32, % energy is 99.811, and compression error is 0.0063300\n",
      "dim is 1, % energy is 37.049, and prediction error is 0.2937173\n",
      "dim is 2, % energy is 67.793, and prediction error is 0.1764970\n",
      "dim is 4, % energy is 85.452, and prediction error is 0.2230948\n",
      "dim is 8, % energy is 93.423, and prediction error is 0.2020789\n",
      "dim is 16, % energy is 98.667, and prediction error is 0.0295439\n",
      "dim is 32, % energy is 99.811, and prediction error is 0.0143679\n"
     ]
    }
   ],
   "source": [
    "repo = np.load('periodic.npz')\n",
    "snaps = np.concatenate((repo['NSE_nu0'], repo['NSE_nu2']), axis=1)\n",
    "\n",
    "rom = MyROM(0.04, 3)\n",
    "rom.load_data_from_array(snaps, 800)\n",
    "rom.generate_POD_basis()\n",
    "rom.plot_evals(40)\n",
    "\n",
    "# Have to redefine some stuff for accurate testing\n",
    "rom.u = repo['NSE_nu1']\n",
    "rom.nSnaps = 400\n",
    "\n",
    "rom.test_POD_projection()\n",
    "rom.test_ROM_approximation(6e-4, 400)"
   ]
  },
  {
   "cell_type": "markdown",
   "metadata": {},
   "source": [
    "Same little animations.  The trend is still well-captured."
   ]
  },
  {
   "cell_type": "code",
   "execution_count": 9,
   "metadata": {},
   "outputs": [
    {
     "data": {
      "application/vnd.jupyter.widget-view+json": {
       "model_id": "de45ee45038d4c80a113f511364ffcf2",
       "version_major": 2,
       "version_minor": 0
      },
      "text/plain": [
       "WebGuiWidget(value={'ngsolve_version': '6.2.2105', 'mesh_dim': 2, 'order2d': 2, 'order3d': 2, 'draw_vol': Fals…"
      ]
     },
     "metadata": {},
     "output_type": "display_data"
    },
    {
     "data": {
      "application/vnd.jupyter.widget-view+json": {
       "model_id": "491dc6c9c6a84c848ab8d8eb615f0fc1",
       "version_major": 2,
       "version_minor": 0
      },
      "text/plain": [
       "WebGuiWidget(value={'ngsolve_version': '6.2.2105', 'mesh_dim': 2, 'order2d': 2, 'order3d': 2, 'draw_vol': Fals…"
      ]
     },
     "metadata": {},
     "output_type": "display_data"
    },
    {
     "data": {
      "text/plain": [
       "BaseWebGuiScene"
      ]
     },
     "execution_count": 9,
     "metadata": {},
     "output_type": "execute_result"
    }
   ],
   "source": [
    "## Visualization for n=16\n",
    "rom.assemble(16, 6e-4)\n",
    "rom.integrate_fEuler(0.0025, 400, nSub=100)\n",
    "uTilde = rom.reconstruct(rom.a)\n",
    "\n",
    "gfut = GridFunction(rom.V, multidim=0)\n",
    "for i,col in enumerate(snaps.T[::10]):\n",
    "    gfut.AddMultiDimComponent(col[:11466])\n",
    "Draw (gfut, rom.mesh, interpolate_multidim=True, animate=True)\n",
    "\n",
    "gfut = GridFunction(rom.V, multidim=0)\n",
    "for i,col in enumerate(uTilde.T[::10]):\n",
    "    gfut.AddMultiDimComponent(col[:11466])\n",
    "Draw (gfut, rom.mesh, interpolate_multidim=True, animate=True)"
   ]
  }
 ],
 "metadata": {
  "kernelspec": {
   "display_name": "Python 3 (ipykernel)",
   "language": "python",
   "name": "python3"
  },
  "language_info": {
   "codemirror_mode": {
    "name": "ipython",
    "version": 3
   },
   "file_extension": ".py",
   "mimetype": "text/x-python",
   "name": "python",
   "nbconvert_exporter": "python",
   "pygments_lexer": "ipython3",
   "version": "3.8.10"
  }
 },
 "nbformat": 4,
 "nbformat_minor": 4
}
